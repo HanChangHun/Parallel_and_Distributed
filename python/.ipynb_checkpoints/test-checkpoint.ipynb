{
 "cells": [
  {
   "cell_type": "code",
   "execution_count": 3,
   "id": "4db44575-ff46-4b07-bf2c-20456b8f2556",
   "metadata": {
    "execution": {
     "iopub.execute_input": "2021-10-18T02:48:42.622702Z",
     "iopub.status.busy": "2021-10-18T02:48:42.622059Z",
     "iopub.status.idle": "2021-10-18T02:48:42.627756Z",
     "shell.execute_reply": "2021-10-18T02:48:42.627463Z",
     "shell.execute_reply.started": "2021-10-18T02:48:42.622634Z"
    },
    "tags": []
   },
   "outputs": [],
   "source": [
    "import sys\n",
    "sys.path.append(\"~/workspaces/study/parallel_distributed/python/\")\n",
    "\n",
    "import random\n",
    "from threading import Thread\n",
    "\n",
    "import numpy as np\n",
    "from quicksort import *"
   ]
  },
  {
   "cell_type": "code",
   "execution_count": 5,
   "id": "456a89de-5700-45a7-8056-c5c837b334de",
   "metadata": {
    "execution": {
     "iopub.execute_input": "2021-10-18T02:49:00.953900Z",
     "iopub.status.busy": "2021-10-18T02:49:00.953515Z",
     "iopub.status.idle": "2021-10-18T02:49:01.005768Z",
     "shell.execute_reply": "2021-10-18T02:49:01.004057Z",
     "shell.execute_reply.started": "2021-10-18T02:49:00.953858Z"
    },
    "tags": []
   },
   "outputs": [
    {
     "name": "stdout",
     "output_type": "stream",
     "text": [
      "========================================\n",
      "\n",
      "SORTING ASSIGNMENT, SIZE=%d\n",
      " 1024\n",
      "========================================\n",
      "\n",
      "sorting verified!\n",
      "\n"
     ]
    }
   ],
   "source": [
    "INPUT_SIZE_LOG = 10\n",
    "INPUT_SIZE = 1 << INPUT_SIZE_LOG\n",
    "\n",
    "input_array = np.zeros((INPUT_SIZE), dtype=int)\n",
    "output_array = np.zeros((INPUT_SIZE), dtype=int)\n",
    "\n",
    "\n",
    "def verify():\n",
    "    for i in range(1, INPUT_SIZE):\n",
    "        if output_array[i - 1] > output_array[i]:\n",
    "            print(\n",
    "                f\"oops, verification failed at index {i - 1}\"\n",
    "                f\" ({i - 1}'s value is {output_array[i - 1]}\"\n",
    "                f\" and {i}'s value is {output_array[i]})\\n\"\n",
    "            )\n",
    "            return 0\n",
    "    return 1\n",
    "\n",
    "\n",
    "def gen_sequence():\n",
    "    for i in range(INPUT_SIZE):\n",
    "        output_array[i] = input_array[i] = random.randint(1, 1000000)\n",
    "\n",
    "\n",
    "if __name__ == \"__main__\":\n",
    "    print(\"========================================\\n\")\n",
    "    print(\"SORTING ASSIGNMENT, SIZE=%d\\n\", INPUT_SIZE)\n",
    "    print(\"========================================\\n\")\n",
    "\n",
    "    gen_sequence()\n",
    "\n",
    "    # quicksort(output_array, 0, INPUT_SIZE - 1)\n",
    "    quicksort_th_dy(output_array, 0, INPUT_SIZE - 1)\n",
    "\n",
    "    if verify():\n",
    "        print(\"sorting verified!\\n\")\n",
    "    else:\n",
    "        print(\"verification failed!\\n\")\n",
    "\n",
    "    del input_array\n",
    "    del output_array"
   ]
  },
  {
   "cell_type": "code",
   "execution_count": null,
   "id": "fcc57faa-5cd4-4ea1-a789-ad607fb346ee",
   "metadata": {},
   "outputs": [],
   "source": []
  }
 ],
 "metadata": {
  "kernelspec": {
   "display_name": "Python 3 (ipykernel)",
   "language": "python",
   "name": "python3"
  },
  "language_info": {
   "codemirror_mode": {
    "name": "ipython",
    "version": 3
   },
   "file_extension": ".py",
   "mimetype": "text/x-python",
   "name": "python",
   "nbconvert_exporter": "python",
   "pygments_lexer": "ipython3",
   "version": "3.8.10"
  }
 },
 "nbformat": 4,
 "nbformat_minor": 5
}
