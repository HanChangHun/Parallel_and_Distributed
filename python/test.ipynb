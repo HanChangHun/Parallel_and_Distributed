{
 "cells": [
  {
   "cell_type": "code",
   "execution_count": 1,
   "id": "4db44575-ff46-4b07-bf2c-20456b8f2556",
   "metadata": {
    "execution": {
     "iopub.execute_input": "2021-10-18T03:01:10.898164Z",
     "iopub.status.busy": "2021-10-18T03:01:10.897445Z",
     "iopub.status.idle": "2021-10-18T03:01:11.005304Z",
     "shell.execute_reply": "2021-10-18T03:01:11.004949Z",
     "shell.execute_reply.started": "2021-10-18T03:01:10.897985Z"
    },
    "tags": []
   },
   "outputs": [],
   "source": [
    "import sys\n",
    "\n",
    "sys.path.append(\"~/workspaces/study/parallel_distributed/python/\")\n",
    "\n",
    "import random\n",
    "from threading import Thread\n",
    "\n",
    "import numpy as np\n",
    "from mergesort import *\n",
    "from quicksort import *"
   ]
  },
  {
   "cell_type": "code",
   "execution_count": 2,
   "id": "456a89de-5700-45a7-8056-c5c837b334de",
   "metadata": {
    "execution": {
     "iopub.execute_input": "2021-10-18T03:01:16.306021Z",
     "iopub.status.busy": "2021-10-18T03:01:16.305799Z",
     "iopub.status.idle": "2021-10-18T03:01:16.328076Z",
     "shell.execute_reply": "2021-10-18T03:01:16.327553Z",
     "shell.execute_reply.started": "2021-10-18T03:01:16.305998Z"
    },
    "scrolled": true,
    "tags": []
   },
   "outputs": [
    {
     "name": "stdout",
     "output_type": "stream",
     "text": [
      "========================================\n",
      "\n",
      "SORTING ASSIGNMENT, SIZE=1024\n",
      "\n",
      "========================================\n",
      "\n",
      "sorting verified!\n",
      "\n"
     ]
    }
   ],
   "source": [
    "INPUT_SIZE_LOG = 10\n",
    "INPUT_SIZE = 1 << INPUT_SIZE_LOG\n",
    "\n",
    "input_array = np.zeros((INPUT_SIZE), dtype=int)\n",
    "output_array = np.zeros((INPUT_SIZE), dtype=int)\n",
    "\n",
    "\n",
    "def verify():\n",
    "    for i in range(1, INPUT_SIZE):\n",
    "        if output_array[i - 1] > output_array[i]:\n",
    "            print(\n",
    "                f\"oops, verification failed at index {i - 1}\"\n",
    "                f\" ({i - 1}'s value is {output_array[i - 1]}\"\n",
    "                f\" and {i}'s value is {output_array[i]})\\n\"\n",
    "            )\n",
    "            return 0\n",
    "    return 1\n",
    "\n",
    "\n",
    "def gen_sequence():\n",
    "    for i in range(INPUT_SIZE):\n",
    "        output_array[i] = input_array[i] = random.randint(1, 1000000)\n",
    "\n",
    "\n",
    "if __name__ == \"__main__\":\n",
    "    num_th = 8\n",
    "\n",
    "    print(\"========================================\\n\")\n",
    "    print(f\"SORTING ASSIGNMENT, SIZE={INPUT_SIZE}\\n\", )\n",
    "    print(\"========================================\\n\")\n",
    "\n",
    "    gen_sequence()\n",
    "\n",
    "    # quicksort(output_array, 0, INPUT_SIZE - 1)\n",
    "    # quicksort_th_dy(output_array, 0, INPUT_SIZE - 1)\n",
    "    # merge_sort(output_array, 0, INPUT_SIZE - 1)\n",
    "    # merge_sort_th_st(output_array, 0, INPUT_SIZE - 1, num_th)\n",
    "    merge_sort_th_dy(output_array, 0, INPUT_SIZE - 1)\n",
    "\n",
    "    if verify():\n",
    "        print(\"sorting verified!\\n\")\n",
    "    else:\n",
    "        print(\"verification failed!\\n\")\n",
    "\n",
    "    del input_array\n",
    "    del output_array"
   ]
  },
  {
   "cell_type": "code",
   "execution_count": null,
   "id": "fcc57faa-5cd4-4ea1-a789-ad607fb346ee",
   "metadata": {},
   "outputs": [],
   "source": []
  }
 ],
 "metadata": {
  "interpreter": {
   "hash": "767d51c1340bd893661ea55ea3124f6de3c7a262a8b4abca0554b478b1e2ff90"
  },
  "kernelspec": {
   "display_name": "Python 3.8.10 64-bit",
   "name": "python3"
  },
  "language_info": {
   "codemirror_mode": {
    "name": "ipython",
    "version": 3
   },
   "file_extension": ".py",
   "mimetype": "text/x-python",
   "name": "python",
   "nbconvert_exporter": "python",
   "pygments_lexer": "ipython3",
   "version": "3.8.10"
  }
 },
 "nbformat": 4,
 "nbformat_minor": 5
}
